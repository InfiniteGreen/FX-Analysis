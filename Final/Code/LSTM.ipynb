{
  "nbformat": 4,
  "nbformat_minor": 0,
  "metadata": {
    "colab": {
      "name": "LSTM.ipynb",
      "version": "0.3.2",
      "provenance": [],
      "collapsed_sections": [],
      "toc_visible": true
    },
    "kernelspec": {
      "name": "python3",
      "display_name": "Python 3"
    }
  },
  "cells": [
    {
      "cell_type": "markdown",
      "metadata": {
        "id": "7g-tnYh4B0Ti",
        "colab_type": "text"
      },
      "source": [
        "# Long Short-Term Memory (LSTM) "
      ]
    },
    {
      "cell_type": "code",
      "metadata": {
        "id": "uDRe_7gFB9O0",
        "colab_type": "code",
        "colab": {}
      },
      "source": [
        "from pandas_datareader import data\n",
        "import matplotlib.pyplot as plt\n",
        "import pandas as pd\n",
        "import datetime as dt\n",
        "import urllib.request, json\n",
        "import os\n",
        "import numpy as np\n",
        "import tensorflow as tf # This code has been tested with TensorFlow 1.6\n",
        "from sklearn.preprocessing import MinMaxScaler"
      ],
      "execution_count": 0,
      "outputs": []
    },
    {
      "cell_type": "markdown",
      "metadata": {
        "id": "wdveDPGWMAoK",
        "colab_type": "text"
      },
      "source": [
        "##Load & Prep FX Data"
      ]
    },
    {
      "cell_type": "code",
      "metadata": {
        "id": "WXzd9T8aQPj9",
        "colab_type": "code",
        "colab": {
          "base_uri": "https://localhost:8080/",
          "height": 202
        },
        "outputId": "675576f3-5680-45a1-dd31-293e38573fa7"
      },
      "source": [
        "# Load data\n",
        "fx1 = pd.read_csv('USD_CAD 200205-2004.csv')\n",
        "fx2 = pd.read_csv('USD_CAD 2005-2009.csv')\n",
        "fx3 = pd.read_csv('USD_CAD 2010-2014.csv')\n",
        "fx4 = pd.read_csv('USD_CAD 2015-201907.csv')\n",
        "# fx4=fx4.reset_index(drop=True)\n",
        "# fx4.head()"
      ],
      "execution_count": 5,
      "outputs": [
        {
          "output_type": "execute_result",
          "data": {
            "text/html": [
              "<div>\n",
              "<style scoped>\n",
              "    .dataframe tbody tr th:only-of-type {\n",
              "        vertical-align: middle;\n",
              "    }\n",
              "\n",
              "    .dataframe tbody tr th {\n",
              "        vertical-align: top;\n",
              "    }\n",
              "\n",
              "    .dataframe thead th {\n",
              "        text-align: right;\n",
              "    }\n",
              "</style>\n",
              "<table border=\"1\" class=\"dataframe\">\n",
              "  <thead>\n",
              "    <tr style=\"text-align: right;\">\n",
              "      <th></th>\n",
              "      <th>FX</th>\n",
              "      <th>Time</th>\n",
              "      <th>Open</th>\n",
              "      <th>High</th>\n",
              "      <th>Low</th>\n",
              "      <th>Close</th>\n",
              "      <th>Volume</th>\n",
              "    </tr>\n",
              "  </thead>\n",
              "  <tbody>\n",
              "    <tr>\n",
              "      <th>0</th>\n",
              "      <td>USD_CAD</td>\n",
              "      <td>2015-01-01</td>\n",
              "      <td>1.161050</td>\n",
              "      <td>1.17862</td>\n",
              "      <td>1.15999</td>\n",
              "      <td>1.178415</td>\n",
              "      <td>16558</td>\n",
              "    </tr>\n",
              "    <tr>\n",
              "      <th>1</th>\n",
              "      <td>USD_CAD</td>\n",
              "      <td>2015-01-04</td>\n",
              "      <td>1.178390</td>\n",
              "      <td>1.18434</td>\n",
              "      <td>1.17434</td>\n",
              "      <td>1.176020</td>\n",
              "      <td>21274</td>\n",
              "    </tr>\n",
              "    <tr>\n",
              "      <th>2</th>\n",
              "      <td>USD_CAD</td>\n",
              "      <td>2015-01-05</td>\n",
              "      <td>1.176250</td>\n",
              "      <td>1.18398</td>\n",
              "      <td>1.17304</td>\n",
              "      <td>1.183645</td>\n",
              "      <td>31010</td>\n",
              "    </tr>\n",
              "    <tr>\n",
              "      <th>3</th>\n",
              "      <td>USD_CAD</td>\n",
              "      <td>2015-01-06</td>\n",
              "      <td>1.183645</td>\n",
              "      <td>1.18744</td>\n",
              "      <td>1.18133</td>\n",
              "      <td>1.181485</td>\n",
              "      <td>36879</td>\n",
              "    </tr>\n",
              "    <tr>\n",
              "      <th>4</th>\n",
              "      <td>USD_CAD</td>\n",
              "      <td>2015-01-07</td>\n",
              "      <td>1.181910</td>\n",
              "      <td>1.18444</td>\n",
              "      <td>1.17968</td>\n",
              "      <td>1.183015</td>\n",
              "      <td>25373</td>\n",
              "    </tr>\n",
              "  </tbody>\n",
              "</table>\n",
              "</div>"
            ],
            "text/plain": [
              "        FX        Time      Open     High      Low     Close  Volume\n",
              "0  USD_CAD  2015-01-01  1.161050  1.17862  1.15999  1.178415   16558\n",
              "1  USD_CAD  2015-01-04  1.178390  1.18434  1.17434  1.176020   21274\n",
              "2  USD_CAD  2015-01-05  1.176250  1.18398  1.17304  1.183645   31010\n",
              "3  USD_CAD  2015-01-06  1.183645  1.18744  1.18133  1.181485   36879\n",
              "4  USD_CAD  2015-01-07  1.181910  1.18444  1.17968  1.183015   25373"
            ]
          },
          "metadata": {
            "tags": []
          },
          "execution_count": 5
        }
      ]
    },
    {
      "cell_type": "code",
      "metadata": {
        "id": "hEX3D4EOC9Xk",
        "colab_type": "code",
        "colab": {
          "base_uri": "https://localhost:8080/",
          "height": 202
        },
        "outputId": "bfe6a817-0ba3-4eb6-b58d-f39f07daaba6"
      },
      "source": [
        "# Combine data\n",
        "frames = [fx1, fx2, fx3, fx4]\n",
        "fxtrade_dataset = pd.concat(frames)\n",
        "fxtrade_dataset.head()"
      ],
      "execution_count": 8,
      "outputs": [
        {
          "output_type": "execute_result",
          "data": {
            "text/html": [
              "<div>\n",
              "<style scoped>\n",
              "    .dataframe tbody tr th:only-of-type {\n",
              "        vertical-align: middle;\n",
              "    }\n",
              "\n",
              "    .dataframe tbody tr th {\n",
              "        vertical-align: top;\n",
              "    }\n",
              "\n",
              "    .dataframe thead th {\n",
              "        text-align: right;\n",
              "    }\n",
              "</style>\n",
              "<table border=\"1\" class=\"dataframe\">\n",
              "  <thead>\n",
              "    <tr style=\"text-align: right;\">\n",
              "      <th></th>\n",
              "      <th>FX</th>\n",
              "      <th>Time</th>\n",
              "      <th>Open</th>\n",
              "      <th>High</th>\n",
              "      <th>Low</th>\n",
              "      <th>Close</th>\n",
              "      <th>Volume</th>\n",
              "    </tr>\n",
              "  </thead>\n",
              "  <tbody>\n",
              "    <tr>\n",
              "      <th>0</th>\n",
              "      <td>USD_CAD</td>\n",
              "      <td>2002-05-07</td>\n",
              "      <td>1.57005</td>\n",
              "      <td>1.57005</td>\n",
              "      <td>1.57005</td>\n",
              "      <td>1.57005</td>\n",
              "      <td>1</td>\n",
              "    </tr>\n",
              "    <tr>\n",
              "      <th>1</th>\n",
              "      <td>USD_CAD</td>\n",
              "      <td>2002-05-08</td>\n",
              "      <td>1.56525</td>\n",
              "      <td>1.56525</td>\n",
              "      <td>1.56525</td>\n",
              "      <td>1.56525</td>\n",
              "      <td>1</td>\n",
              "    </tr>\n",
              "    <tr>\n",
              "      <th>2</th>\n",
              "      <td>USD_CAD</td>\n",
              "      <td>2002-05-09</td>\n",
              "      <td>1.55850</td>\n",
              "      <td>1.55850</td>\n",
              "      <td>1.55850</td>\n",
              "      <td>1.55850</td>\n",
              "      <td>1</td>\n",
              "    </tr>\n",
              "    <tr>\n",
              "      <th>3</th>\n",
              "      <td>USD_CAD</td>\n",
              "      <td>2002-05-10</td>\n",
              "      <td>1.55850</td>\n",
              "      <td>1.55850</td>\n",
              "      <td>1.55850</td>\n",
              "      <td>1.55850</td>\n",
              "      <td>1</td>\n",
              "    </tr>\n",
              "    <tr>\n",
              "      <th>4</th>\n",
              "      <td>USD_CAD</td>\n",
              "      <td>2002-05-12</td>\n",
              "      <td>1.55395</td>\n",
              "      <td>1.55395</td>\n",
              "      <td>1.55395</td>\n",
              "      <td>1.55395</td>\n",
              "      <td>1</td>\n",
              "    </tr>\n",
              "  </tbody>\n",
              "</table>\n",
              "</div>"
            ],
            "text/plain": [
              "        FX        Time     Open     High      Low    Close  Volume\n",
              "0  USD_CAD  2002-05-07  1.57005  1.57005  1.57005  1.57005       1\n",
              "1  USD_CAD  2002-05-08  1.56525  1.56525  1.56525  1.56525       1\n",
              "2  USD_CAD  2002-05-09  1.55850  1.55850  1.55850  1.55850       1\n",
              "3  USD_CAD  2002-05-10  1.55850  1.55850  1.55850  1.55850       1\n",
              "4  USD_CAD  2002-05-12  1.55395  1.55395  1.55395  1.55395       1"
            ]
          },
          "metadata": {
            "tags": []
          },
          "execution_count": 8
        }
      ]
    },
    {
      "cell_type": "code",
      "metadata": {
        "id": "fnUAciKaTzXu",
        "colab_type": "code",
        "colab": {
          "base_uri": "https://localhost:8080/",
          "height": 202
        },
        "outputId": "bed611e9-c107-487a-d816-703a8c1e5a4a"
      },
      "source": [
        "# Sort DataFrame by date\n",
        "fxtrade_dataset = fxtrade_dataset.head().sort_values('Time')\n",
        "# Double check the result\n",
        "fxtrade_dataset.head()"
      ],
      "execution_count": 9,
      "outputs": [
        {
          "output_type": "execute_result",
          "data": {
            "text/html": [
              "<div>\n",
              "<style scoped>\n",
              "    .dataframe tbody tr th:only-of-type {\n",
              "        vertical-align: middle;\n",
              "    }\n",
              "\n",
              "    .dataframe tbody tr th {\n",
              "        vertical-align: top;\n",
              "    }\n",
              "\n",
              "    .dataframe thead th {\n",
              "        text-align: right;\n",
              "    }\n",
              "</style>\n",
              "<table border=\"1\" class=\"dataframe\">\n",
              "  <thead>\n",
              "    <tr style=\"text-align: right;\">\n",
              "      <th></th>\n",
              "      <th>FX</th>\n",
              "      <th>Time</th>\n",
              "      <th>Open</th>\n",
              "      <th>High</th>\n",
              "      <th>Low</th>\n",
              "      <th>Close</th>\n",
              "      <th>Volume</th>\n",
              "    </tr>\n",
              "  </thead>\n",
              "  <tbody>\n",
              "    <tr>\n",
              "      <th>0</th>\n",
              "      <td>USD_CAD</td>\n",
              "      <td>2002-05-07</td>\n",
              "      <td>1.57005</td>\n",
              "      <td>1.57005</td>\n",
              "      <td>1.57005</td>\n",
              "      <td>1.57005</td>\n",
              "      <td>1</td>\n",
              "    </tr>\n",
              "    <tr>\n",
              "      <th>1</th>\n",
              "      <td>USD_CAD</td>\n",
              "      <td>2002-05-08</td>\n",
              "      <td>1.56525</td>\n",
              "      <td>1.56525</td>\n",
              "      <td>1.56525</td>\n",
              "      <td>1.56525</td>\n",
              "      <td>1</td>\n",
              "    </tr>\n",
              "    <tr>\n",
              "      <th>2</th>\n",
              "      <td>USD_CAD</td>\n",
              "      <td>2002-05-09</td>\n",
              "      <td>1.55850</td>\n",
              "      <td>1.55850</td>\n",
              "      <td>1.55850</td>\n",
              "      <td>1.55850</td>\n",
              "      <td>1</td>\n",
              "    </tr>\n",
              "    <tr>\n",
              "      <th>3</th>\n",
              "      <td>USD_CAD</td>\n",
              "      <td>2002-05-10</td>\n",
              "      <td>1.55850</td>\n",
              "      <td>1.55850</td>\n",
              "      <td>1.55850</td>\n",
              "      <td>1.55850</td>\n",
              "      <td>1</td>\n",
              "    </tr>\n",
              "    <tr>\n",
              "      <th>4</th>\n",
              "      <td>USD_CAD</td>\n",
              "      <td>2002-05-12</td>\n",
              "      <td>1.55395</td>\n",
              "      <td>1.55395</td>\n",
              "      <td>1.55395</td>\n",
              "      <td>1.55395</td>\n",
              "      <td>1</td>\n",
              "    </tr>\n",
              "  </tbody>\n",
              "</table>\n",
              "</div>"
            ],
            "text/plain": [
              "        FX        Time     Open     High      Low    Close  Volume\n",
              "0  USD_CAD  2002-05-07  1.57005  1.57005  1.57005  1.57005       1\n",
              "1  USD_CAD  2002-05-08  1.56525  1.56525  1.56525  1.56525       1\n",
              "2  USD_CAD  2002-05-09  1.55850  1.55850  1.55850  1.55850       1\n",
              "3  USD_CAD  2002-05-10  1.55850  1.55850  1.55850  1.55850       1\n",
              "4  USD_CAD  2002-05-12  1.55395  1.55395  1.55395  1.55395       1"
            ]
          },
          "metadata": {
            "tags": []
          },
          "execution_count": 9
        }
      ]
    },
    {
      "cell_type": "markdown",
      "metadata": {
        "id": "nJcIMzXTMNmH",
        "colab_type": "text"
      },
      "source": [
        "## Plot Original Data"
      ]
    },
    {
      "cell_type": "code",
      "metadata": {
        "id": "KNmTjEoKLMvC",
        "colab_type": "code",
        "colab": {
          "base_uri": "https://localhost:8080/",
          "height": 621
        },
        "outputId": "51033f84-7c9f-46d6-fc68-02ab7d68951b"
      },
      "source": [
        "plt.figure(figsize = (18,9))\n",
        "plt.plot(range(fxtrade_dataset.shape[0]),(fxtrade_dataset['Low']+fxtrade_dataset['High'])/2.0)\n",
        "plt.xticks(range(0,fxtrade_dataset.shape[0],500),fxtrade_dataset['Time'].loc[::500],rotation=45)\n",
        "plt.xlabel('Date',fontsize=18)\n",
        "plt.ylabel('Mid Price',fontsize=18)\n",
        "plt.show()"
      ],
      "execution_count": 11,
      "outputs": [
        {
          "output_type": "display_data",
          "data": {
            "image/png": "[encoded data removed]",
            "text/plain": [
              "<Figure size 1296x648 with 1 Axes>"
            ]
          },
          "metadata": {
            "tags": []
          }
        }
      ]
    },
    {
      "cell_type": "markdown",
      "metadata": {
        "id": "40CXPTyaMc7W",
        "colab_type": "text"
      },
      "source": [
        "## Splitting Data into Training & Test"
      ]
    },
    {
      "cell_type": "code",
      "metadata": {
        "id": "rherBLWXLxKr",
        "colab_type": "code",
        "colab": {
          "base_uri": "https://localhost:8080/",
          "height": 107
        },
        "outputId": "2382bc6f-efdf-43d1-a964-6f58bd1fbdfb"
      },
      "source": [
        "# First calculate the mid prices from the highest and lowest\n",
        "high_prices = fxtrade_dataset.loc[:,'High'].as_matrix()\n",
        "low_prices = fxtrade_dataset.loc[:,'Low'].as_matrix()\n",
        "mid_prices = (high_prices+low_prices)/2.0"
      ],
      "execution_count": 12,
      "outputs": [
        {
          "output_type": "stream",
          "text": [
            "/usr/local/lib/python3.6/dist-packages/ipykernel_launcher.py:1: FutureWarning: Method .as_matrix will be removed in a future version. Use .values instead.\n",
            "  \"\"\"Entry point for launching an IPython kernel.\n",
            "/usr/local/lib/python3.6/dist-packages/ipykernel_launcher.py:2: FutureWarning: Method .as_matrix will be removed in a future version. Use .values instead.\n",
            "  \n"
          ],
          "name": "stderr"
        }
      ]
    },
    {
      "cell_type": "code",
      "metadata": {
        "id": "qLV8Y2O_NFVp",
        "colab_type": "code",
        "colab": {}
      },
      "source": [
        "# Train = first 233 data (65% of dataset), Test = rest\n",
        "train_data = mid_prices[:233]\n",
        "test_data = mid_prices[233:]"
      ],
      "execution_count": 0,
      "outputs": []
    },
    {
      "cell_type": "markdown",
      "metadata": {
        "id": "vSYuvh6nOeQy",
        "colab_type": "text"
      },
      "source": [
        "## Normalizing the Data"
      ]
    },
    {
      "cell_type": "code",
      "metadata": {
        "id": "hjTqAqmGOX4z",
        "colab_type": "code",
        "colab": {}
      },
      "source": [
        "# Scale the data to be between 0 and 1\n",
        "# When scaling remember! You normalize both test and train data with respect to training data\n",
        "# Because you are not supposed to have access to test data\n",
        "scaler = MinMaxScaler()\n",
        "train_data = train_data.reshape(-1,1)\n",
        "test_data = test_data.reshape(-1,1)"
      ],
      "execution_count": 0,
      "outputs": []
    }
  ]
}